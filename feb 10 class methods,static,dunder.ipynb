{
 "cells": [
  {
   "cell_type": "markdown",
   "id": "b4999700-7659-43d0-babd-8ae4b4c963d1",
   "metadata": {},
   "source": [
    "assignment on files"
   ]
  },
  {
   "cell_type": "markdown",
   "id": "9c496e53-483e-4d5c-b183-26db0f54eb28",
   "metadata": {},
   "source": [
    "Q1. Which function is used to open a file? What are the different modes of opening a file? Explain each mode of file opening."
   ]
  },
  {
   "cell_type": "markdown",
   "id": "0db831d5-527a-4b42-ba59-9ad2183b5265",
   "metadata": {},
   "source": [
    "answer : The function used to open a file in Python is the built-in open() function. This function takes at least one argument, which is the name of the file to be opened, and returns a file object which can be used to read from or write to the file.\n",
    "The mode parameter is optional and is used to specify the mode in which the file should be opened. There are several different modes in which a file can be opened, each of which determines how the file can be used.\n",
    "\n",
    "The different modes of opening a file are:\n",
    "\n",
    "'r' (read mode): This mode is used to open a file for reading. The file pointer is placed at the beginning of the file, and if the file does not exist, an error is raised.\n",
    "\n",
    "'w' (write mode): This mode is used to open a file for writing. If the file exists, it is truncated to zero length, otherwise a new file is created. The file pointer is placed at the beginning of the file.\n",
    "\n",
    "'a' (append mode): This mode is used to open a file for writing, but the new data is written to the end of the file. If the file does not exist, a new file is created.\n",
    "\n",
    "'x' (exclusive creation mode): This mode is used to create a new file, but raises an error if the file already exists.\n",
    "\n",
    "'b' (binary mode): This mode is used to open a file in binary mode, which is used for non-text files such as images, videos, etc.\n",
    "\n",
    "'t' (text mode): This mode is used to open a file in text mode, which is used for text files such as .txt files. This is the default mode if no mode is specified.\n",
    "\n",
    "'+' (read and write mode): This mode is used to open a file for both reading and writing.\n",
    "\n",
    "For example, to open a file named \"example.txt\" in read mode, you would use the following code:\n",
    "file_object = open(\"example.txt\", \"r\")\n"
   ]
  },
  {
   "cell_type": "markdown",
   "id": "3385835b-7001-46b8-a31c-8461e220152e",
   "metadata": {},
   "source": [
    "Q2. Why close() function is used? Why is it important to close a file?"
   ]
  },
  {
   "cell_type": "markdown",
   "id": "0cdab2ce-386d-4073-a9a8-4c762050296f",
   "metadata": {},
   "source": [
    "answer : The close() function is used to close a file that was previously opened with the open() function in Python. It is important to close a file after it has been used because leaving a file open can cause problems, including:\n",
    "\n",
    "Resource management: Leaving files open can consume system resources, which can cause issues if too many files are left open at once. This can result in slow performance, memory leaks, or even system crashes.\n",
    "\n",
    "Data integrity: If a file is not properly closed, it may not be saved correctly, which can result in lost data or corrupted files.\n",
    "\n",
    "Security: Leaving files open can also pose a security risk, as other users or programs may be able to access the file and modify it without your knowledge.\n",
    "\n",
    "Here is an example of how to use the close() function to close a file:\n",
    "\n",
    "\n",
    "file_object = open(\"example.txt\", \"r\")\n",
    "file_object.close()\n"
   ]
  },
  {
   "cell_type": "markdown",
   "id": "6eb3726c-70c3-45b7-bce9-6eca93a05281",
   "metadata": {},
   "source": [
    "Q3. Write a python program to create a text file. Write ‘I want to become a Data Scientist’ in that file. Then\n",
    "close the file. Open this file and read the content of the file."
   ]
  },
  {
   "cell_type": "code",
   "execution_count": 1,
   "id": "4a8aed12-f519-45fb-81f6-a2cfa852d78a",
   "metadata": {},
   "outputs": [
    {
     "name": "stdout",
     "output_type": "stream",
     "text": [
      "I want to become a Data Scientist\n"
     ]
    }
   ],
   "source": [
    "## answer :\n",
    "# open file in write mode\n",
    "file = open(\"data_scientist.txt\", \"w\")\n",
    "\n",
    "# write string to the file\n",
    "file.write(\"I want to become a Data Scientist\")\n",
    "\n",
    "# close the file\n",
    "file.close()\n",
    "\n",
    "# open the file in read mode\n",
    "file = open(\"data_scientist.txt\", \"r\")\n",
    "\n",
    "# read the content of the file\n",
    "content = file.read()\n",
    "\n",
    "# close the file\n",
    "file.close()\n",
    "\n",
    "# print the content of the file\n",
    "print(content)\n"
   ]
  },
  {
   "cell_type": "markdown",
   "id": "bd3e164a-d049-429b-8600-d07d1b5abf00",
   "metadata": {},
   "source": [
    "Q4. Explain the following with python code: read(), readline() and readlines()."
   ]
  },
  {
   "cell_type": "markdown",
   "id": "efb3900e-b320-452f-9944-0fba4afe01b4",
   "metadata": {},
   "source": [
    "answer :\n",
    "1) read()\n",
    "The read() method is used to read the entire contents of a file as a single string. It takes an optional parameter specifying the number of bytes to read, but if no parameter is given, it reads the entire file.\n",
    "In this example, we use the read() method to read the entire contents of the file \"example.txt\" into the variable content. The print() function is then used to display the contents of the file.\n"
   ]
  },
  {
   "cell_type": "code",
   "execution_count": null,
   "id": "7bb3803c-d68d-4303-9a08-35dec843d5c3",
   "metadata": {},
   "outputs": [],
   "source": [
    "# Open file in read mode\n",
    "file = open(\"example.txt\", \"r\")\n",
    "\n",
    "# Read the entire contents of the file\n",
    "content = file.read()\n",
    "\n",
    "# Close the file\n",
    "file.close()\n",
    "\n",
    "# Print the contents of the file\n",
    "print(content)\n"
   ]
  },
  {
   "cell_type": "markdown",
   "id": "729d3061-01d3-45e1-9d77-c1357d012757",
   "metadata": {},
   "source": [
    "2) readline()\n",
    "The readline() method is used to read a single line from a file. It reads the text up to and including the newline character ('\\n'). If the end of the file is reached, it returns an empty string ('').\n",
    "In this example, we use the readline() method to read the first line of the file \"example.txt\" into the variable line. The print() function is then used to display the contents of the line."
   ]
  },
  {
   "cell_type": "code",
   "execution_count": null,
   "id": "0275b11e-0611-4279-b0fa-9deec0c97de1",
   "metadata": {},
   "outputs": [],
   "source": [
    "# Open file in read mode\n",
    "file = open(\"example.txt\", \"r\")\n",
    "\n",
    "# Read the first line of the file\n",
    "line = file.readline()\n",
    "\n",
    "# Close the file\n",
    "file.close()\n",
    "\n",
    "# Print the first line of the file\n",
    "print(line)\n"
   ]
  },
  {
   "cell_type": "markdown",
   "id": "8015471f-4ae2-46f8-9530-affd5cc7b523",
   "metadata": {},
   "source": [
    "3) readlines()\n",
    "The readlines() method is used to read all the lines of a file as a list of strings. Each string in the list represents a single line from the file, and includes the newline character ('\\n').\n",
    "In this example, we use the readlines() method to read all the lines of the file \"example.txt\" into the list lines. The print() function is then used to display the contents of the list. Each string in the list represents a single line from the file."
   ]
  },
  {
   "cell_type": "code",
   "execution_count": null,
   "id": "17d5d48c-d727-44f3-84aa-1512ddbbb5db",
   "metadata": {},
   "outputs": [],
   "source": [
    "# Open file in read mode\n",
    "file = open(\"example.txt\", \"r\")\n",
    "\n",
    "# Read all the lines of the file into a list\n",
    "lines = file.readlines()\n",
    "\n",
    "# Close the file\n",
    "file.close()\n",
    "\n",
    "# Print the list of lines\n",
    "print(lines)\n"
   ]
  },
  {
   "cell_type": "markdown",
   "id": "2b839631-44b8-463e-801a-bba825cf1788",
   "metadata": {},
   "source": [
    "Q5. Explain why with statement is used with open(). What is the advantage of using with statement and open() together?"
   ]
  },
  {
   "cell_type": "markdown",
   "id": "76a6b3b2-3074-4196-bd9b-8a71eb58292e",
   "metadata": {},
   "source": [
    "answer : When used with the open() function to read or write to a file, the with statement ensures that the file is properly closed after it has been used. Here's an example:"
   ]
  },
  {
   "cell_type": "code",
   "execution_count": null,
   "id": "47d9c006-a50f-4aca-820d-afd2fe0f64d0",
   "metadata": {},
   "outputs": [],
   "source": [
    "with open('example.txt', 'r') as file:\n",
    "    # do something with the file, such as reading its contents\n",
    "    content = file.read()\n",
    "    \n",
    "# file is automatically closed when the with block is exited\n"
   ]
  },
  {
   "cell_type": "markdown",
   "id": "42c281f6-7655-47ff-b318-2a9ee8d8de93",
   "metadata": {},
   "source": [
    "The advantage of using the with statement and open() function together is that it ensures that the file is properly closed after it has been used, even in the event of an error or exception. This can help prevent resource leaks and other issues that can occur when resources are not properly released after use. Additionally, using the with statement with open() can make code more concise and easier to read, since there is no need to explicitly close the file."
   ]
  },
  {
   "cell_type": "markdown",
   "id": "93c13ee1-dc23-4553-a193-40c522436d94",
   "metadata": {},
   "source": [
    "Q6. Explain the write() and writelines() functions. Give a suitable example."
   ]
  },
  {
   "cell_type": "markdown",
   "id": "cd111b44-247e-4d71-b204-8324adc3369d",
   "metadata": {},
   "source": [
    "answer : \n",
    "1) write()\n",
    "The write() method is used to write a string to a file. If the file does not exist, it will be created. If the file exists, the data will be appended to the end of the file. Here's an example:    "
   ]
  },
  {
   "cell_type": "code",
   "execution_count": null,
   "id": "aaa7bbf7-f3b7-41cc-81ef-07e968f4b654",
   "metadata": {},
   "outputs": [],
   "source": [
    "# Open file in write mode\n",
    "file = open(\"example.txt\", \"w\")\n",
    "\n",
    "# Write a string to the file\n",
    "file.write(\"I want to become a Data Scientist\")\n",
    "\n",
    "# Close the file\n",
    "file.close()\n"
   ]
  },
  {
   "cell_type": "markdown",
   "id": "d044c4d8-27a5-47a6-91b0-0f843ce94a20",
   "metadata": {},
   "source": [
    "in this example, we use the write() method to write the string \"I want to become a Data Scientist\" to the file \"example.txt\".\n",
    "\n",
    "If we open the \"example.txt\" file, we will see that it contains the following text:\n",
    "\n",
    "I want to become a Data Scientist\n"
   ]
  },
  {
   "cell_type": "markdown",
   "id": "6e224525-255a-49cc-b71b-1337ebb0cb18",
   "metadata": {},
   "source": [
    "2) writelines()\n",
    "The writelines() method is used to write a list of strings to a file. Each string in the list represents a single line to be written to the file. Here's an example:"
   ]
  },
  {
   "cell_type": "code",
   "execution_count": null,
   "id": "ebe44f05-e9ee-4919-9398-deae9d757164",
   "metadata": {},
   "outputs": [],
   "source": [
    "# Open file in write mode\n",
    "file = open(\"example.txt\", \"w\")\n",
    "\n",
    "# Write a list of strings to the file\n",
    "lines = [\"Data Science is my passion\\n\", \"I want to become a Data Scientist\\n\"]\n",
    "file.writelines(lines)\n",
    "\n",
    "# Close the file\n",
    "file.close()\n"
   ]
  },
  {
   "cell_type": "markdown",
   "id": "4ea78a55-0a7f-4568-9881-f7df17c8020b",
   "metadata": {},
   "source": [
    "In this example, we use the writelines() method to write a list of two strings to the file \"example.txt\". The strings are \"Data Science is my passion\" and \"I want to become a Data Scientist\".\n",
    "\n",
    "If we open the \"example.txt\" file, we will see that it contains the following text:\n",
    "\n",
    "Data Science is my passion\n",
    "I want to become a Data Scientist\n",
    "\n",
    "In summary, write() and writelines() methods are useful for writing data to a file in Python. The write() method is used to write a single string to a file, while the writelines() method is used to write a list of strings to a file.\n"
   ]
  }
 ],
 "metadata": {
  "kernelspec": {
   "display_name": "Python 3 (ipykernel)",
   "language": "python",
   "name": "python3"
  },
  "language_info": {
   "codemirror_mode": {
    "name": "ipython",
    "version": 3
   },
   "file_extension": ".py",
   "mimetype": "text/x-python",
   "name": "python",
   "nbconvert_exporter": "python",
   "pygments_lexer": "ipython3",
   "version": "3.10.8"
  }
 },
 "nbformat": 4,
 "nbformat_minor": 5
}
